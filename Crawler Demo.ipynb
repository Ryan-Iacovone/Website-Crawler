{
 "cells": [
  {
   "cell_type": "code",
   "execution_count": null,
   "metadata": {},
   "outputs": [],
   "source": [
    "# library imports \n",
    "import requests\n",
    "from bs4 import BeautifulSoup\n",
    "import pandas as pd\n",
    "import time\n",
    "import random\n",
    "import sys\n",
    "import os\n",
    "import datetime"
   ]
  },
  {
   "cell_type": "code",
   "execution_count": null,
   "metadata": {},
   "outputs": [],
   "source": [
    "# Phase 1 - pass in starting url to get inital list of links to start crawl \n",
    "\n",
    "def inital_search(url):\n",
    "    links = []\n",
    "    response = requests.get(url)\n",
    "    if response.status_code == 200:\n",
    "\n",
    "        soup = BeautifulSoup(response.content, 'html.parser')\n",
    "        for a in soup.find_all('a'):\n",
    "            trial = a.get('href')\n",
    "            \n",
    "            if trial is not None and trial.startswith(\"https\"):\n",
    "                links.append(a.get('href'))\n",
    "    \n",
    "    # converting the list into a set, which automatically removes duplicates (sets don't allow duplicates) convert back to a list:\n",
    "    links = list(set(links))\n",
    "\n",
    "    return links\n",
    "\n",
    "url = \"https://kdl.org/\"\n",
    "links = inital_search(url)"
   ]
  },
  {
   "cell_type": "code",
   "execution_count": null,
   "metadata": {},
   "outputs": [],
   "source": [
    "# Sorts raw links into KDL links list and other list  \n",
    "def sort_links(links, string):\n",
    "    company_links = []\n",
    "    otherlinks = []\n",
    "\n",
    "    for link in links:\n",
    "        if string in link:\n",
    "            company_links.append(link)\n",
    "        else:\n",
    "            otherlinks.append(link)\n",
    "    return company_links, otherlinks\n",
    "\n",
    "string = \"kdl.\"\n",
    "company_links, otherlinks= sort_links(links, string)"
   ]
  },
  {
   "cell_type": "code",
   "execution_count": null,
   "metadata": {},
   "outputs": [],
   "source": [
    "# Part 2 - taking in the inital links list as input to branch out \n",
    "\n",
    "def broaden_search(company_links, sample, string):\n",
    "    #initialize new list to hold new links\n",
    "    new_links = [] # use a new list in order to avoid an infinite loop although if I want a real crawler I would let it loop infinitly until no more new links were found\n",
    "\n",
    "    #initalize counter \n",
    "    tenum = 0\n",
    "\n",
    "    # Checking if company_links is a df or list \n",
    "    if isinstance(company_links, pd.DataFrame):\n",
    "        company_links = company_links['Link'].tolist()\n",
    "\n",
    "    # Randomly sample observations, sample is an input\n",
    "    try:\n",
    "        company_links_smol = random.sample(company_links, sample)\n",
    "    except ValueError:\n",
    "        print(\"Sample input larger than population or is negative.\")                 \n",
    "\n",
    "    for link in company_links_smol:\n",
    "        response = requests.get(link)\n",
    "        num = random.randint(0,5)\n",
    "        time.sleep(num)\n",
    "        if response.status_code == 200:\n",
    "            soup = BeautifulSoup(response.content, 'html.parser')\n",
    "            for a in soup.find_all('a'):\n",
    "                trial = a.get('href')\n",
    "                if trial is not None and trial.startswith(\"https\") and trial not in company_links:\n",
    "                    new_links.append(trial)  # Append new links to separate list\n",
    "                    print(f\"{trial} successfully found\")\n",
    "        tenum += 1\n",
    "        print(f\"\\n{link} successfully scraped --{tenum} \\n\")\n",
    "\n",
    "    # Removing duplicate links from list     \n",
    "    new_links = list(set(new_links))\n",
    "\n",
    "    # Sorting links into kdl vs others  \n",
    "    company_links_new, otherlinks_new = sort_links(new_links, string)\n",
    "\n",
    "    company_links.extend(company_links_new)\n",
    "    otherlinks.extend(otherlinks_new)\n",
    "    \n",
    "    return company_links, otherlinks\n",
    "\n",
    "company_links, otherlinks = broaden_search(company_links, 5, string)"
   ]
  },
  {
   "cell_type": "code",
   "execution_count": null,
   "metadata": {},
   "outputs": [],
   "source": [
    "# extend functions adds the contents of one list to another (in this case new_links added to links list)\n",
    "\n",
    "links.extend(new_links)"
   ]
  },
  {
   "cell_type": "code",
   "execution_count": null,
   "metadata": {},
   "outputs": [],
   "source": [
    "# convert lists to dfs and save as excel files locally  \n",
    "\n",
    "def convert_and_save(company_links, otherlinks): \n",
    "    # convert to df (checking if company_links is already a df)\n",
    "    if not isinstance(company_links, pd.DataFrame):\n",
    "        company_df_links = pd.DataFrame(company_links, columns= ['Link']) # does not sort values \n",
    "    else:\n",
    "        company_df_links = company_links\n",
    "        \n",
    "    other_df_links = pd.DataFrame(otherlinks, columns= ['Link'])\n",
    "\n",
    "    # save locally\n",
    "    file_path = r\"C:\\Users\\Ryan\\Coding Projects\\Web Scraping\\Crawler data\"\n",
    "\n",
    "    # Get today's date as a str\n",
    "    today_str = datetime.date.today().strftime(\"%b %d\") #Gets today's date in the format of \"May 6\"\n",
    "\n",
    "    #Saving the kdl_df_links df to an excel\n",
    "    file_name_k = rf\"company_df_links {today_str}.xlsx\"\n",
    "    full_path_k = os.path.join(file_path, file_name_k)\n",
    "    company_df_links.to_excel(full_path_k, index=False) \n",
    "\n",
    "    # Saving the other_df_links df to an excel\n",
    "    file_name_o = rf\"other_df_links {today_str}.xlsx\"\n",
    "    full_path_o = os.path.join(file_path, file_name_o)\n",
    "    other_df_links.to_excel(full_path_o, index=False)\n",
    "\n",
    "convert_and_save(company_links, otherlinks)"
   ]
  },
  {
   "cell_type": "code",
   "execution_count": null,
   "metadata": {},
   "outputs": [],
   "source": [
    "from crawler_functions import *"
   ]
  },
  {
   "cell_type": "code",
   "execution_count": null,
   "metadata": {},
   "outputs": [],
   "source": [
    "# Functions in Action!\n",
    "\n",
    "# Phase 1 - pass in starting url to get inital list of links to start crawl\n",
    "url = \"https://kdl.org/\"\n",
    "links = inital_search(url)\n",
    "\n",
    "# Sorts raw links into KDL links list and other list  \n",
    "company_links, otherlinks= sort_links(links, string)\n",
    "\n",
    "# Part 2 - takes in the inital links list as input to branch out (can be from inital_search() function or read links from csv) \n",
    "company_links = pd.read_excel(r\"kdl_df_links.xlsx\")\n",
    "\n",
    "sample_size = 4\n",
    "company_links, otherlinks = broaden_search(company_links, 5, string)\n",
    "\n",
    "# converts lists to dfs (if they aren't already) and saves as excel files locally  \n",
    "convert_and_save(company_links, otherlinks)"
   ]
  },
  {
   "cell_type": "code",
   "execution_count": null,
   "metadata": {},
   "outputs": [],
   "source": [
    "# Difference between random.sample & random.sample\n",
    "\n",
    "import random\n",
    "\n",
    "# Sample usage of random.sample()\n",
    "population = [1, 2, 3, 4, 5]\n",
    "sample = random.sample(population, 3)\n",
    "print(\"Randomly sampled elements:\", sample)\n",
    "\n",
    "# Sample usage of random.choice()\n",
    "element = random.sample(population)\n",
    "print(\"Randomly chosen element:\", element)"
   ]
  }
 ],
 "metadata": {
  "kernelspec": {
   "display_name": "Python 3",
   "language": "python",
   "name": "python3"
  },
  "language_info": {
   "codemirror_mode": {
    "name": "ipython",
    "version": 3
   },
   "file_extension": ".py",
   "mimetype": "text/x-python",
   "name": "python",
   "nbconvert_exporter": "python",
   "pygments_lexer": "ipython3",
   "version": "3.10.11"
  }
 },
 "nbformat": 4,
 "nbformat_minor": 2
}
